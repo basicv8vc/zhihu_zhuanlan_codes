{
 "cells": [
  {
   "cell_type": "code",
   "execution_count": 22,
   "metadata": {},
   "outputs": [
    {
     "name": "stdout",
     "output_type": "stream",
     "text": [
      "1.0.0\n"
     ]
    }
   ],
   "source": [
    "import torch\n",
    "import torch.nn as nn\n",
    "from torch.nn import Parameter\n",
    "import torch.nn.functional as F\n",
    "\n",
    "print(torch.__version__)"
   ]
  },
  {
   "cell_type": "code",
   "execution_count": 55,
   "metadata": {},
   "outputs": [],
   "source": [
    "class RNNCell(nn.Module):\n",
    "    def __init__(self, input_size=None, hidden_size=None):\n",
    "        super(RNNCell, self).__init__()\n",
    "        self.input_size = input_size\n",
    "        self.hidden_size = hidden_size\n",
    "        self.w_ih = nn.Parameter(torch.randn(self.input_size, self.hidden_size))\n",
    "        self.w_hh = nn.Parameter(torch.randn(self.hidden_size, self.hidden_size))\n",
    "        self.b_ih = nn.Parameter(torch.randn(self.hidden_size))\n",
    "        self.b_hh = nn.Parameter(torch.randn(self.hidden_size))\n",
    "        \n",
    "        \n",
    "    def forward(self, x, h):\n",
    "        \"\"\"input and last hidden state\n",
    "        \"\"\"\n",
    "        h = torch.mm(x, self.w_ih).squeeze() + torch.mm(h, self.w_hh).squeeze() + self.b_ih + self.b_hh\n",
    "        h = F.sigmoid(h)\n",
    "        \n",
    "        return h"
   ]
  },
  {
   "cell_type": "code",
   "execution_count": 56,
   "metadata": {},
   "outputs": [],
   "source": [
    "rnn = RNNCell(20, 10)"
   ]
  },
  {
   "cell_type": "code",
   "execution_count": 57,
   "metadata": {},
   "outputs": [],
   "source": [
    "h = torch.randn(10).view(1, 10)\n",
    "\n",
    "inputs = [torch.randn(20).view(1, 20) for i in range(5)]"
   ]
  },
  {
   "cell_type": "code",
   "execution_count": 64,
   "metadata": {},
   "outputs": [],
   "source": [
    "for i in range(5):\n",
    "#     print(h)\n",
    "    h = rnn(inputs[i], h)\n",
    "    h = h.view(1, 10)\n",
    "    "
   ]
  },
  {
   "cell_type": "code",
   "execution_count": 69,
   "metadata": {},
   "outputs": [
    {
     "data": {
      "text/plain": [
       "tensor([[0.9520, 0.4751, 0.0010, 0.9880, 0.0015, 0.9536, 0.7873, 0.9961, 0.1791,\n",
       "         0.0622]], grad_fn=<ViewBackward>)"
      ]
     },
     "execution_count": 69,
     "metadata": {},
     "output_type": "execute_result"
    }
   ],
   "source": [
    "h"
   ]
  },
  {
   "cell_type": "code",
   "execution_count": 70,
   "metadata": {},
   "outputs": [
    {
     "data": {
      "text/plain": [
       "tensor([[0.9520, 0.4751, 0.0010, 0.9880, 0.0015, 0.9536, 0.7873, 0.9961, 0.1791,\n",
       "         0.0622]])"
      ]
     },
     "execution_count": 70,
     "metadata": {},
     "output_type": "execute_result"
    }
   ],
   "source": [
    "h.detach()"
   ]
  },
  {
   "cell_type": "code",
   "execution_count": 71,
   "metadata": {},
   "outputs": [
    {
     "data": {
      "text/plain": [
       "tensor([[0.9520, 0.4751, 0.0010, 0.9880, 0.0015, 0.9536, 0.7873, 0.9961, 0.1791,\n",
       "         0.0622]], grad_fn=<ViewBackward>)"
      ]
     },
     "execution_count": 71,
     "metadata": {},
     "output_type": "execute_result"
    }
   ],
   "source": [
    "h"
   ]
  },
  {
   "cell_type": "code",
   "execution_count": 59,
   "metadata": {},
   "outputs": [],
   "source": [
    "x = torch.randn(5)"
   ]
  },
  {
   "cell_type": "code",
   "execution_count": 10,
   "metadata": {},
   "outputs": [],
   "source": [
    "y = torch.randn(5).view(5, 1)"
   ]
  },
  {
   "cell_type": "code",
   "execution_count": 19,
   "metadata": {},
   "outputs": [
    {
     "data": {
      "text/plain": [
       "tensor([[ 0.2901, -2.7542,  0.5306, -0.4096, -1.3312],\n",
       "        [ 0.6099, -2.4344,  0.8504, -0.0898, -1.0114],\n",
       "        [ 1.1360, -1.9083,  1.3765,  0.4363, -0.4853],\n",
       "        [ 1.4611, -1.5832,  1.7016,  0.7614, -0.1602],\n",
       "        [ 0.7686, -2.2757,  1.0091,  0.0689, -0.8527]])"
      ]
     },
     "execution_count": 19,
     "metadata": {},
     "output_type": "execute_result"
    }
   ],
   "source": [
    "# broadcast\n",
    "x + y"
   ]
  },
  {
   "cell_type": "code",
   "execution_count": 20,
   "metadata": {},
   "outputs": [
    {
     "data": {
      "text/plain": [
       "tensor([ 0.8571, -2.1872,  1.0976,  0.1574, -0.7642])"
      ]
     },
     "execution_count": 20,
     "metadata": {},
     "output_type": "execute_result"
    }
   ],
   "source": [
    "x"
   ]
  },
  {
   "cell_type": "code",
   "execution_count": 21,
   "metadata": {},
   "outputs": [
    {
     "data": {
      "text/plain": [
       "tensor([[-0.5670],\n",
       "        [-0.2472],\n",
       "        [ 0.2789],\n",
       "        [ 0.6040],\n",
       "        [-0.0885]])"
      ]
     },
     "execution_count": 21,
     "metadata": {},
     "output_type": "execute_result"
    }
   ],
   "source": [
    "y"
   ]
  },
  {
   "cell_type": "code",
   "execution_count": null,
   "metadata": {},
   "outputs": [],
   "source": []
  },
  {
   "cell_type": "code",
   "execution_count": null,
   "metadata": {},
   "outputs": [],
   "source": []
  },
  {
   "cell_type": "code",
   "execution_count": null,
   "metadata": {},
   "outputs": [],
   "source": []
  }
 ],
 "metadata": {
  "kernelspec": {
   "display_name": "Python 3",
   "language": "python",
   "name": "python3"
  },
  "language_info": {
   "codemirror_mode": {
    "name": "ipython",
    "version": 3
   },
   "file_extension": ".py",
   "mimetype": "text/x-python",
   "name": "python",
   "nbconvert_exporter": "python",
   "pygments_lexer": "ipython3",
   "version": "3.7.1"
  }
 },
 "nbformat": 4,
 "nbformat_minor": 2
}
