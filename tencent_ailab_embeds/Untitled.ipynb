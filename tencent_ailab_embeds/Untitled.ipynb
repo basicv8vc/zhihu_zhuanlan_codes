{
 "cells": [
  {
   "cell_type": "code",
   "execution_count": 1,
   "metadata": {
    "collapsed": true
   },
   "outputs": [],
   "source": [
    "import numpy as np"
   ]
  },
  {
   "cell_type": "code",
   "execution_count": 3,
   "metadata": {
    "collapsed": false
   },
   "outputs": [],
   "source": [
    "names = []\n",
    "data = np.zeros((8824330,200), dtype=np.float16)"
   ]
  },
  {
   "cell_type": "code",
   "execution_count": 5,
   "metadata": {
    "collapsed": false
   },
   "outputs": [
    {
     "data": {
      "text/plain": [
       "(8824330, 200)"
      ]
     },
     "execution_count": 5,
     "metadata": {},
     "output_type": "execute_result"
    }
   ],
   "source": [
    "data.shape"
   ]
  },
  {
   "cell_type": "code",
   "execution_count": 10,
   "metadata": {
    "collapsed": true
   },
   "outputs": [],
   "source": [
    "ct = 0\n",
    "with open('Tencent_AILab_ChineseEmbedding.txt') as fi:\n",
    "    next(fi)\n",
    "    for line in fi:\n",
    "        atts = line.strip().split()\n",
    "        names.append(atts[0])\n",
    "        embeds = [np.float16(num) for num in atts[1:]]\n",
    "        data[ct] = np.array(embeds)\n",
    "        ct += 1\n",
    "        "
   ]
  },
  {
   "cell_type": "code",
   "execution_count": 25,
   "metadata": {
    "collapsed": false
   },
   "outputs": [
    {
     "name": "stdout",
     "output_type": "stream",
     "text": [
      "占用字节数:3529732000B, 3529732.0KB, 3529.732MB, 3.529732GB\n"
     ]
    }
   ],
   "source": [
    "print(\"占用字节数:{}B, {}KB, {}MB, {}GB\".format(data.nbytes, data.nbytes/1e3, data.nbytes/1e6,\n",
    "                                       data.nbytes/1e9))"
   ]
  },
  {
   "cell_type": "code",
   "execution_count": 27,
   "metadata": {
    "collapsed": false
   },
   "outputs": [
    {
     "name": "stdout",
     "output_type": "stream",
     "text": [
      "理论上只需要占用3529732000B, 3529732.0KB, 3529.732MB, 3.529732GB\n"
     ]
    }
   ],
   "source": [
    "# 使用16bit float, 也就是2B\n",
    "bytes = 8824330 * 200 * 2\n",
    "print(\"理论上只需要占用{}B, {}KB, {}MB, {}GB\".format(bytes, bytes/1e3, bytes/1e6, bytes/1e9))"
   ]
  },
  {
   "cell_type": "code",
   "execution_count": 28,
   "metadata": {
    "collapsed": false
   },
   "outputs": [
    {
     "name": "stdout",
     "output_type": "stream",
     "text": [
      "理论上只需要占用7059464000B, 7059464.0KB, 7059.464MB, 7.059464GB\n"
     ]
    }
   ],
   "source": [
    "# 使用32bit float, 也就是4B\n",
    "bytes = 8824330 * 200 * 4\n",
    "print(\"理论上只需要占用{}B, {}KB, {}MB, {}GB\".format(bytes, bytes/1e3, bytes/1e6, bytes/1e9))"
   ]
  },
  {
   "cell_type": "code",
   "execution_count": 31,
   "metadata": {
    "collapsed": false
   },
   "outputs": [],
   "source": [
    "np.save('Tencent_AILab_Embeddings_data', data)"
   ]
  },
  {
   "cell_type": "code",
   "execution_count": 33,
   "metadata": {
    "collapsed": false
   },
   "outputs": [],
   "source": [
    "np.save('Tencent_AILab_Embeddings_Vocab', np.array(names))"
   ]
  },
  {
   "cell_type": "code",
   "execution_count": 39,
   "metadata": {
    "collapsed": false
   },
   "outputs": [],
   "source": [
    "names = np.array(names)"
   ]
  },
  {
   "cell_type": "code",
   "execution_count": null,
   "metadata": {
    "collapsed": false
   },
   "outputs": [],
   "source": []
  },
  {
   "cell_type": "code",
   "execution_count": null,
   "metadata": {
    "collapsed": false
   },
   "outputs": [],
   "source": []
  },
  {
   "cell_type": "code",
   "execution_count": null,
   "metadata": {
    "collapsed": true
   },
   "outputs": [],
   "source": []
  },
  {
   "cell_type": "code",
   "execution_count": null,
   "metadata": {
    "collapsed": true
   },
   "outputs": [],
   "source": []
  },
  {
   "cell_type": "code",
   "execution_count": null,
   "metadata": {
    "collapsed": true
   },
   "outputs": [],
   "source": []
  }
 ],
 "metadata": {
  "kernelspec": {
   "display_name": "Python 2",
   "language": "python",
   "name": "python2"
  },
  "language_info": {
   "codemirror_mode": {
    "name": "ipython",
    "version": 2
   },
   "file_extension": ".py",
   "mimetype": "text/x-python",
   "name": "python",
   "nbconvert_exporter": "python",
   "pygments_lexer": "ipython2",
   "version": "2.7.12"
  }
 },
 "nbformat": 4,
 "nbformat_minor": 2
}
